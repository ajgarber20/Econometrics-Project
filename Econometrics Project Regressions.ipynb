{
 "cells": [
  {
   "cell_type": "code",
   "execution_count": 392,
   "metadata": {
    "collapsed": false
   },
   "outputs": [],
   "source": [
    "import numpy as np\n",
    "import pandas as pd\n",
    "import statsmodels.formula.api as smf\n",
    "from scipy import stats\n",
    "from sklearn import linear_model\n",
    "%matplotlib inline"
   ]
  },
  {
   "cell_type": "code",
   "execution_count": 366,
   "metadata": {
    "collapsed": false
   },
   "outputs": [],
   "source": [
    "# OBP, OBP Against, SLG, and SLG Against 1999-2003 Seasons\n",
    "batting99_03=pd.read_csv('https://raw.githubusercontent.com/ajgarber20/Econometrics-Project/master/1999-2003_Seasons_Team_Compiled_Batting.csv')\n",
    "#batting99_03"
   ]
  },
  {
   "cell_type": "code",
   "execution_count": 22,
   "metadata": {
    "collapsed": false
   },
   "outputs": [
    {
     "data": {
      "text/plain": [
       "Tm              object\n",
       "OBP            float64\n",
       "SLG            float64\n",
       "OBP_Against    float64\n",
       "SLG_Against    float64\n",
       "Win_per        float64\n",
       "dtype: object"
      ]
     },
     "execution_count": 22,
     "metadata": {},
     "output_type": "execute_result"
    }
   ],
   "source": [
    "batting.dtypes"
   ]
  },
  {
   "cell_type": "code",
   "execution_count": 395,
   "metadata": {
    "collapsed": false
   },
   "outputs": [
    {
     "name": "stdout",
     "output_type": "stream",
     "text": [
      "[0.85 0.  ] 0.15000000000000002\n"
     ]
    }
   ],
   "source": [
    "clf = linear_model.Lasso(alpha=0.1)\n",
    "clf.fit([[0,0], [1, 1], [2, 2]], [0, 1, 2])\n",
    "print(clf.coef_, clf.intercept_)"
   ]
  },
  {
   "cell_type": "code",
   "execution_count": 382,
   "metadata": {
    "collapsed": false
   },
   "outputs": [
    {
     "name": "stdout",
     "output_type": "stream",
     "text": [
      "                            OLS Regression Results                            \n",
      "==============================================================================\n",
      "Dep. Variable:                Win_per   R-squared:                       0.824\n",
      "Model:                            OLS   Adj. R-squared:                  0.822\n",
      "Method:                 Least Squares   F-statistic:                     344.8\n",
      "Date:                Mon, 03 Dec 2018   Prob (F-statistic):           3.14e-56\n",
      "Time:                        00:00:25   Log-Likelihood:                 300.62\n",
      "No. Observations:                 150   AIC:                            -595.2\n",
      "Df Residuals:                     147   BIC:                            -586.2\n",
      "Df Model:                           2                                         \n",
      "Covariance Type:            nonrobust                                         \n",
      "===============================================================================\n",
      "                  coef    std err          t      P>|t|      [0.025      0.975]\n",
      "-------------------------------------------------------------------------------\n",
      "Intercept       0.5094      0.087      5.837      0.000       0.337       0.682\n",
      "OBP             3.2964      0.190     17.373      0.000       2.921       3.671\n",
      "OBP_Against    -3.3248      0.172    -19.311      0.000      -3.665      -2.985\n",
      "==============================================================================\n",
      "Omnibus:                        2.250   Durbin-Watson:                   2.275\n",
      "Prob(Omnibus):                  0.325   Jarque-Bera (JB):                1.648\n",
      "Skew:                          -0.001   Prob(JB):                        0.439\n",
      "Kurtosis:                       2.487   Cond. No.                         84.8\n",
      "==============================================================================\n",
      "\n",
      "Warnings:\n",
      "[1] Standard Errors assume that the covariance matrix of the errors is correctly specified.\n"
     ]
    }
   ],
   "source": [
    "# regression model #1 -  OBP and OBP Against\n",
    "results=smf.ols('Win_per ~ OBP + OBP_Against', data=batting99_03).fit().summary()\n",
    "print(results)"
   ]
  },
  {
   "cell_type": "code",
   "execution_count": 381,
   "metadata": {
    "collapsed": false
   },
   "outputs": [
    {
     "data": {
      "text/plain": [
       "F_onewayResult(statistic=1410.8712409200073, pvalue=4.901227656731199e-115)"
      ]
     },
     "execution_count": 381,
     "metadata": {},
     "output_type": "execute_result"
    }
   ],
   "source": []
  },
  {
   "cell_type": "code",
   "execution_count": 56,
   "metadata": {
    "collapsed": false
   },
   "outputs": [],
   "source": [
    "# regression model #2 - SLG and SLG Against\n",
    "#print(smf.ols('Win_per ~ SLG + SLG_Against', data=batting99_03).fit().summary())"
   ]
  },
  {
   "cell_type": "code",
   "execution_count": 384,
   "metadata": {
    "collapsed": false
   },
   "outputs": [],
   "source": [
    "batting99_03['OBP_restricted']=batting99_03['OBP']-batting99_03['OBP_Against']\n",
    "batting99_03['SLG_restricted']=batting99_03['SLG']-batting99_03['SLG_Against']\n",
    "batting14_18['OBP_restricted']=batting14_18['OBP']-batting14_18['OBP_Against']\n",
    "batting14_18['SLG_restricted']=batting14_18['SLG']-batting14_18['SLG_Against']"
   ]
  },
  {
   "cell_type": "code",
   "execution_count": 74,
   "metadata": {
    "collapsed": false
   },
   "outputs": [],
   "source": [
    "# regression model #3 - OBP/OBP Against and SLG/SLG Against\n",
    "#print(smf.ols('Win_per ~ OBP + OBP_Against + SLG + SLG_Against', data=batting99_03).fit().summary())"
   ]
  },
  {
   "cell_type": "code",
   "execution_count": 387,
   "metadata": {
    "collapsed": false
   },
   "outputs": [
    {
     "name": "stdout",
     "output_type": "stream",
     "text": [
      "                            OLS Regression Results                            \n",
      "==============================================================================\n",
      "Dep. Variable:                Win_per   R-squared:                       0.884\n",
      "Model:                            OLS   Adj. R-squared:                  0.882\n",
      "Method:                 Least Squares   F-statistic:                     557.7\n",
      "Date:                Mon, 03 Dec 2018   Prob (F-statistic):           2.28e-69\n",
      "Time:                        00:04:29   Log-Likelihood:                 331.49\n",
      "No. Observations:                 150   AIC:                            -657.0\n",
      "Df Residuals:                     147   BIC:                            -647.9\n",
      "Df Model:                           2                                         \n",
      "Covariance Type:            nonrobust                                         \n",
      "==================================================================================\n",
      "                     coef    std err          t      P>|t|      [0.025      0.975]\n",
      "----------------------------------------------------------------------------------\n",
      "Intercept          0.4999      0.002    228.311      0.000       0.496       0.504\n",
      "OBP_restricted     2.0335      0.180     11.303      0.000       1.678       2.389\n",
      "SLG_restricted     0.9020      0.104      8.653      0.000       0.696       1.108\n",
      "==============================================================================\n",
      "Omnibus:                        1.504   Durbin-Watson:                   2.263\n",
      "Prob(Omnibus):                  0.471   Jarque-Bera (JB):                1.567\n",
      "Skew:                          -0.230   Prob(JB):                        0.457\n",
      "Kurtosis:                       2.804   Cond. No.                         91.8\n",
      "==============================================================================\n",
      "\n",
      "Warnings:\n",
      "[1] Standard Errors assume that the covariance matrix of the errors is correctly specified.\n"
     ]
    }
   ],
   "source": [
    "# regression model 4 - equal coefficients\n",
    "results = smf.ols('Win_per ~ OBP_restricted + SLG_restricted', data=batting99_03).fit()\n",
    "print(results.summary())"
   ]
  },
  {
   "cell_type": "code",
   "execution_count": 388,
   "metadata": {
    "collapsed": false
   },
   "outputs": [
    {
     "data": {
      "text/plain": [
       "<class 'statsmodels.stats.contrast.ContrastResults'>\n",
       "<F test: F=array([[17.29234227]]), p=5.4247357846416064e-05, df_denom=147, df_num=1>"
      ]
     },
     "execution_count": 388,
     "metadata": {},
     "output_type": "execute_result"
    }
   ],
   "source": [
    "hyp = 'OBP_restricted = SLG_restricted'\n",
    "results.f_test(hyp)"
   ]
  },
  {
   "cell_type": "code",
   "execution_count": 59,
   "metadata": {
    "collapsed": false
   },
   "outputs": [],
   "source": [
    "# OBP, OBP Against, SLG, and SLG Against 2014-2018 Seasons\n",
    "batting14_18 = pd.read_csv('https://raw.githubusercontent.com/ajgarber20/Econometrics-Project/master/2014-2018_Seasons_Team_Batting_Compiled.csv')\n",
    "#batting14_18"
   ]
  },
  {
   "cell_type": "code",
   "execution_count": 60,
   "metadata": {
    "collapsed": false
   },
   "outputs": [],
   "source": [
    "# regression model #1 -  OBP and OBP Against\n",
    "#print(smf.ols('Win_per ~ OBP + OBP_Against', data=batting14_18).fit().summary())"
   ]
  },
  {
   "cell_type": "code",
   "execution_count": 64,
   "metadata": {
    "collapsed": false
   },
   "outputs": [],
   "source": [
    "# regression model #2 - SLG and SLG Against\n",
    "#print(smf.ols('Win_per ~ SLG + SLG_Against', data=batting14_18).fit().summary())"
   ]
  },
  {
   "cell_type": "code",
   "execution_count": 76,
   "metadata": {
    "collapsed": false
   },
   "outputs": [],
   "source": [
    "# regression model #3 - OBP/OBP Against and SLG/SLG Against\n",
    "#print(smf.ols('Win_per ~ OBP + OBP_Against + SLG + SLG_Against', data=batting14_18).fit().summary())"
   ]
  },
  {
   "cell_type": "code",
   "execution_count": 389,
   "metadata": {
    "collapsed": false
   },
   "outputs": [
    {
     "name": "stdout",
     "output_type": "stream",
     "text": [
      "                            OLS Regression Results                            \n",
      "==============================================================================\n",
      "Dep. Variable:                Win_per   R-squared:                       0.815\n",
      "Model:                            OLS   Adj. R-squared:                  0.812\n",
      "Method:                 Least Squares   F-statistic:                     322.9\n",
      "Date:                Mon, 03 Dec 2018   Prob (F-statistic):           1.62e-54\n",
      "Time:                        00:07:01   Log-Likelihood:                 312.60\n",
      "No. Observations:                 150   AIC:                            -619.2\n",
      "Df Residuals:                     147   BIC:                            -610.2\n",
      "Df Model:                           2                                         \n",
      "Covariance Type:            nonrobust                                         \n",
      "==================================================================================\n",
      "                     coef    std err          t      P>|t|      [0.025      0.975]\n",
      "----------------------------------------------------------------------------------\n",
      "Intercept          0.4998      0.002    201.258      0.000       0.495       0.505\n",
      "OBP_restricted     1.3632      0.227      6.005      0.000       0.915       1.812\n",
      "SLG_restricted     1.0877      0.139      7.802      0.000       0.812       1.363\n",
      "==============================================================================\n",
      "Omnibus:                        0.287   Durbin-Watson:                   2.178\n",
      "Prob(Omnibus):                  0.866   Jarque-Bera (JB):                0.180\n",
      "Skew:                          -0.085   Prob(JB):                        0.914\n",
      "Kurtosis:                       3.012   Cond. No.                         104.\n",
      "==============================================================================\n",
      "\n",
      "Warnings:\n",
      "[1] Standard Errors assume that the covariance matrix of the errors is correctly specified.\n"
     ]
    }
   ],
   "source": [
    "# regression model 4 - equal coefficients\n",
    "results2 = smf.ols('Win_per ~ OBP_restricted + SLG_restricted', data=batting14_18).fit()\n",
    "print(results2.summary())"
   ]
  },
  {
   "cell_type": "code",
   "execution_count": 390,
   "metadata": {
    "collapsed": false
   },
   "outputs": [
    {
     "data": {
      "text/plain": [
       "<class 'statsmodels.stats.contrast.ContrastResults'>\n",
       "<F test: F=array([[0.60743002]]), p=0.43701003765763635, df_denom=147, df_num=1>"
      ]
     },
     "execution_count": 390,
     "metadata": {},
     "output_type": "execute_result"
    }
   ],
   "source": [
    "hyp = 'OBP_restricted = SLG_restricted'\n",
    "results2.f_test(hyp)"
   ]
  },
  {
   "cell_type": "code",
   "execution_count": 307,
   "metadata": {
    "collapsed": false
   },
   "outputs": [],
   "source": [
    "# Salaries 2000 Seasons\n",
    "Salary_Batting00 = pd.read_csv('https://raw.githubusercontent.com/ajgarber20/Econometrics-Project/master/2000F.csv')\n",
    "#Salary_Batting00"
   ]
  },
  {
   "cell_type": "code",
   "execution_count": null,
   "metadata": {
    "collapsed": false
   },
   "outputs": [],
   "source": []
  },
  {
   "cell_type": "code",
   "execution_count": 176,
   "metadata": {
    "collapsed": false
   },
   "outputs": [
    {
     "name": "stdout",
     "output_type": "stream",
     "text": [
      "2600192.6559766764 1500000.0 0.1     250600.0\n",
      "0.9    6350000.0\n",
      "Name: salary, dtype: float64\n"
     ]
    }
   ],
   "source": [
    "print(Salary_Batting00['salary'].mean(),Salary_Batting00['salary'].median(),Salary_Batting00['salary'].quantile([.1, .9]))\n"
   ]
  },
  {
   "cell_type": "code",
   "execution_count": 169,
   "metadata": {
    "collapsed": false
   },
   "outputs": [
    {
     "data": {
      "text/plain": [
       "1500000.0"
      ]
     },
     "execution_count": 169,
     "metadata": {},
     "output_type": "execute_result"
    }
   ],
   "source": [
    "b=Salary_Batting00['salary'].median()\n",
    "b"
   ]
  },
  {
   "cell_type": "code",
   "execution_count": 175,
   "metadata": {
    "collapsed": false
   },
   "outputs": [
    {
     "data": {
      "text/plain": [
       "0.1     250600.0\n",
       "0.9    6350000.0\n",
       "Name: salary, dtype: float64"
      ]
     },
     "execution_count": 175,
     "metadata": {},
     "output_type": "execute_result"
    }
   ],
   "source": [
    "c=Salary_Batting00['salary'].quantile([.1, .9])\n",
    "c"
   ]
  },
  {
   "cell_type": "code",
   "execution_count": 151,
   "metadata": {
    "collapsed": false
   },
   "outputs": [],
   "source": [
    "#Salaries 2001 Seasons\n",
    "Salary_Batting01 = pd.read_csv('https://raw.githubusercontent.com/ajgarber20/Econometrics-Project/master/2001F.csv')\n",
    "#Salary_Batting01"
   ]
  },
  {
   "cell_type": "code",
   "execution_count": 149,
   "metadata": {
    "collapsed": false
   },
   "outputs": [],
   "source": [
    "#Salary_Batting01['PlayerID'].value_counts()"
   ]
  },
  {
   "cell_type": "code",
   "execution_count": 137,
   "metadata": {
    "collapsed": false
   },
   "outputs": [
    {
     "name": "stdout",
     "output_type": "stream",
     "text": [
      "3047687.345505618 1700000.0 0.1     257500.0\n",
      "0.9    7625000.0\n",
      "Name: Salary, dtype: float64\n"
     ]
    }
   ],
   "source": [
    "print(Salary_Batting01['Salary'].mean(), Salary_Batting01['Salary'].median(), Salary_Batting01['Salary'].quantile([.1, .9]))"
   ]
  },
  {
   "cell_type": "code",
   "execution_count": 150,
   "metadata": {
    "collapsed": false
   },
   "outputs": [],
   "source": [
    "#Salaries 2002 Seasons\n",
    "Salary_Batting02 = pd.read_csv('https://raw.githubusercontent.com/ajgarber20/Econometrics-Project/master/2002F.csv')\n",
    "#Salary_Batting02"
   ]
  },
  {
   "cell_type": "code",
   "execution_count": 152,
   "metadata": {
    "collapsed": false
   },
   "outputs": [],
   "source": [
    "#Salary_Batting02['playerID'].value_counts()"
   ]
  },
  {
   "cell_type": "code",
   "execution_count": 143,
   "metadata": {
    "collapsed": false
   },
   "outputs": [
    {
     "name": "stdout",
     "output_type": "stream",
     "text": [
      "[3216140.723529412, 1902500.0, 0.1     259100.0\n",
      "0.9    8000000.0\n",
      "Name: salary, dtype: float64]\n"
     ]
    }
   ],
   "source": [
    "print([Salary_Batting02['salary'].mean(),Salary_Batting02['salary'].median(),Salary_Batting02['salary'].quantile([.1, .9])]) "
   ]
  },
  {
   "cell_type": "code",
   "execution_count": 180,
   "metadata": {
    "collapsed": false
   },
   "outputs": [],
   "source": [
    "#Salaries 2003 Seasons\n",
    "Salary_Batting03 = pd.read_csv('https://raw.githubusercontent.com/ajgarber20/Econometrics-Project/master/2003F.csv')\n",
    "#Salary_Batting03"
   ]
  },
  {
   "cell_type": "code",
   "execution_count": 154,
   "metadata": {
    "collapsed": false
   },
   "outputs": [],
   "source": [
    "#Salary_Batting03['playerID'].value_counts()"
   ]
  },
  {
   "cell_type": "code",
   "execution_count": 153,
   "metadata": {
    "collapsed": false
   },
   "outputs": [
    {
     "name": "stdout",
     "output_type": "stream",
     "text": [
      "[3490765.625, 1637500.0, 0.1     320000.0\n",
      "0.9    9070000.0\n",
      "Name: salary, dtype: float64]\n"
     ]
    }
   ],
   "source": [
    "print([Salary_Batting03['salary'].mean(),Salary_Batting03['salary'].median(),Salary_Batting03['salary'].quantile([.1, .9])]) "
   ]
  },
  {
   "cell_type": "code",
   "execution_count": 177,
   "metadata": {
    "collapsed": false
   },
   "outputs": [],
   "source": [
    "#Salaries 2004 Season\n",
    "Salary_Batting04 = pd.read_csv('https://raw.githubusercontent.com/ajgarber20/Econometrics-Project/master/2004F.csv')\n",
    "#Salary_Batting04"
   ]
  },
  {
   "cell_type": "code",
   "execution_count": 160,
   "metadata": {
    "collapsed": false
   },
   "outputs": [
    {
     "name": "stdout",
     "output_type": "stream",
     "text": [
      "[3329760.254385965, 1275000.0, 0.1     324130.0\n",
      "0.9    8848333.3\n",
      "Name: salary, dtype: float64]\n"
     ]
    }
   ],
   "source": [
    "print([Salary_Batting04['salary'].mean(),Salary_Batting04['salary'].median(),Salary_Batting04['salary'].quantile([.1, .9])]) "
   ]
  },
  {
   "cell_type": "code",
   "execution_count": 212,
   "metadata": {
    "collapsed": false
   },
   "outputs": [],
   "source": [
    "#Salaries 2012 Season\n",
    "Salary_Batting12 = pd.read_csv('https://raw.githubusercontent.com/ajgarber20/Econometrics-Project/master/2012F.csv')\n",
    "#Salary_Batting12"
   ]
  },
  {
   "cell_type": "code",
   "execution_count": 211,
   "metadata": {
    "collapsed": false
   },
   "outputs": [
    {
     "data": {
      "text/plain": [
       "(4505769.807692308, 2000000.0, 0.1      486040.0\n",
       " 0.9    12500000.0\n",
       " Name: salary, dtype: float64)"
      ]
     },
     "execution_count": 211,
     "metadata": {},
     "output_type": "execute_result"
    }
   ],
   "source": [
    "Salary_Batting12['salary'].mean(),Salary_Batting12['salary'].median(),Salary_Batting12['salary'].quantile([.1, .9])"
   ]
  },
  {
   "cell_type": "code",
   "execution_count": 214,
   "metadata": {
    "collapsed": false
   },
   "outputs": [],
   "source": [
    "#Salaries 2013 Season\n",
    "Salary_Batting13 = pd.read_csv('https://raw.githubusercontent.com/ajgarber20/Econometrics-Project/master/2013F.csv')\n",
    "#Salary_Batting13"
   ]
  },
  {
   "cell_type": "code",
   "execution_count": 213,
   "metadata": {
    "collapsed": false
   },
   "outputs": [
    {
     "data": {
      "text/plain": [
       "(4675473.234756097, 2350000.0, 0.1      497500.0\n",
       " 0.9    13015000.0\n",
       " Name: salary, dtype: float64)"
      ]
     },
     "execution_count": 213,
     "metadata": {},
     "output_type": "execute_result"
    }
   ],
   "source": [
    "Salary_Batting13['salary'].mean(),Salary_Batting13['salary'].median(),Salary_Batting13['salary'].quantile([.1, .9])"
   ]
  },
  {
   "cell_type": "code",
   "execution_count": 216,
   "metadata": {
    "collapsed": false
   },
   "outputs": [],
   "source": [
    "#Salaries 2014 Season\n",
    "Salary_Batting14 = pd.read_csv('https://raw.githubusercontent.com/ajgarber20/Econometrics-Project/master/2014F.csv')\n",
    "#Salary_Batting14"
   ]
  },
  {
   "cell_type": "code",
   "execution_count": 215,
   "metadata": {
    "collapsed": false
   },
   "outputs": [
    {
     "data": {
      "text/plain": [
       "(4996498.382352941, 2450000.0, 0.1      505336.0\n",
       " 0.9    14025000.0\n",
       " Name: salary, dtype: float64)"
      ]
     },
     "execution_count": 215,
     "metadata": {},
     "output_type": "execute_result"
    }
   ],
   "source": [
    "Salary_Batting14['salary'].mean(),Salary_Batting14['salary'].median(),Salary_Batting14['salary'].quantile([.1, .9])"
   ]
  },
  {
   "cell_type": "code",
   "execution_count": 219,
   "metadata": {
    "collapsed": false
   },
   "outputs": [],
   "source": [
    "#Salaries 2015 Season\n",
    "Salary_Batting15 = pd.read_csv('https://raw.githubusercontent.com/ajgarber20/Econometrics-Project/master/2015F.csv')\n",
    "#Salary_Batting15"
   ]
  },
  {
   "cell_type": "code",
   "execution_count": 218,
   "metadata": {
    "collapsed": false
   },
   "outputs": [
    {
     "data": {
      "text/plain": [
       "(5559241.792792792, 3000000.0, 0.1      517500.0\n",
       " 0.9    15000000.0\n",
       " Name: salary, dtype: float64)"
      ]
     },
     "execution_count": 218,
     "metadata": {},
     "output_type": "execute_result"
    }
   ],
   "source": [
    "Salary_Batting15['salary'].mean(),Salary_Batting15['salary'].median(),Salary_Batting15['salary'].quantile([.1, .9])"
   ]
  },
  {
   "cell_type": "code",
   "execution_count": 442,
   "metadata": {
    "collapsed": false
   },
   "outputs": [],
   "source": [
    "#Salaries 2016 Season\n",
    "Salary_Batting16 = pd.read_csv('https://raw.githubusercontent.com/ajgarber20/Econometrics-Project/master/2016F.csv')\n",
    "#Salary_Batting16"
   ]
  },
  {
   "cell_type": "code",
   "execution_count": 221,
   "metadata": {
    "collapsed": false
   },
   "outputs": [
    {
     "data": {
      "text/plain": [
       "(5868418.808383234, 3000000.0, 0.1      517560.0\n",
       " 0.9    16255771.7\n",
       " Name: salary, dtype: float64)"
      ]
     },
     "execution_count": 221,
     "metadata": {},
     "output_type": "execute_result"
    }
   ],
   "source": [
    "Salary_Batting16['salary'].mean(),Salary_Batting16['salary'].median(),Salary_Batting16['salary'].quantile([.1, .9])"
   ]
  },
  {
   "cell_type": "code",
   "execution_count": 275,
   "metadata": {
    "collapsed": true
   },
   "outputs": [],
   "source": [
    "#2000 Season Average Salaries Across Position Groups and Home Runs\n",
    "HR25_00=pd.read_csv('https://raw.githubusercontent.com/ajgarber20/Econometrics-Project/master/2000_%3E25HR.csv')\n",
    "HR14_00=pd.read_csv('https://raw.githubusercontent.com/ajgarber20/Econometrics-Project/master/2000_%3C14HR.csv')\n",
    "FB_00=pd.read_csv('https://raw.githubusercontent.com/ajgarber20/Econometrics-Project/master/2000_First.csv')\n",
    "IF_00=pd.read_csv('https://raw.githubusercontent.com/ajgarber20/Econometrics-Project/master/2000_Infielders.csv')\n",
    "OF_00=pd.read_csv('https://raw.githubusercontent.com/ajgarber20/Econometrics-Project/master/2000_OF.csv')\n",
    "C_00=pd.read_csv('https://raw.githubusercontent.com/ajgarber20/Econometrics-Project/master/2000_Catchers.csv')"
   ]
  },
  {
   "cell_type": "code",
   "execution_count": 279,
   "metadata": {
    "collapsed": false
   },
   "outputs": [
    {
     "name": "stdout",
     "output_type": "stream",
     "text": [
      "5623719.864406779 1502624.642857143 4652977.933333334 2220983.0168067226 2649401.9210526315 2030254.0952380951\n"
     ]
    }
   ],
   "source": [
    "print(HR25_00['salary'].mean(),HR14_00['salary'].mean(),FB_00['salary'].mean(),IF_00['salary'].mean(),OF_00['salary'].mean(),C_00['salary'].mean())"
   ]
  },
  {
   "cell_type": "code",
   "execution_count": 374,
   "metadata": {
    "collapsed": true
   },
   "outputs": [],
   "source": [
    "#2001 Season Average Salaries Across Position Groups and Home Runs\n",
    "HR25_01=pd.read_csv('https://raw.githubusercontent.com/ajgarber20/Econometrics-Project/master/2001_%3E25HR.csv')\n",
    "HR14_01=pd.read_csv('https://raw.githubusercontent.com/ajgarber20/Econometrics-Project/master/2001_%3C14HR.csv')\n",
    "FB_01=pd.read_csv('https://raw.githubusercontent.com/ajgarber20/Econometrics-Project/master/2001_First.csv')\n",
    "IF_01=pd.read_csv('https://raw.githubusercontent.com/ajgarber20/Econometrics-Project/master/2001_Infielders.csv')\n",
    "OF_01=pd.read_csv('https://raw.githubusercontent.com/ajgarber20/Econometrics-Project/master/2001_OF.csv')\n",
    "C_01=pd.read_csv('https://raw.githubusercontent.com/ajgarber20/Econometrics-Project/master/2001_Catchers.csv')"
   ]
  },
  {
   "cell_type": "code",
   "execution_count": 375,
   "metadata": {
    "collapsed": false
   },
   "outputs": [
    {
     "name": "stdout",
     "output_type": "stream",
     "text": [
      "6636791.448275862 1562756.9121951219 5418761.1 2628342.3720930233 3264675.2297297297 2044607.387755102\n"
     ]
    }
   ],
   "source": [
    "print(HR25_01['Salary'].mean(), HR14_01['Salary'].mean(), FB_01['Salary'].mean(),IF_01['Salary'].mean(), OF_01['Salary'].mean(), C_01['Salary'].mean())"
   ]
  },
  {
   "cell_type": "code",
   "execution_count": 282,
   "metadata": {
    "collapsed": true
   },
   "outputs": [],
   "source": [
    "#2002 Season Average Salaries Across Position Groups and Home Runs\n",
    "HR25_02=pd.read_csv('https://raw.githubusercontent.com/ajgarber20/Econometrics-Project/master/2002_%3E25HR.csv')\n",
    "HR14_02=pd.read_csv('https://raw.githubusercontent.com/ajgarber20/Econometrics-Project/master/2002_%3C14HR.csv')\n",
    "FB_02=pd.read_csv('https://raw.githubusercontent.com/ajgarber20/Econometrics-Project/master/2002_First.csv')\n",
    "IF_02=pd.read_csv('https://raw.githubusercontent.com/ajgarber20/Econometrics-Project/master/2002_Infielders.csv')\n",
    "OF_02=pd.read_csv('https://raw.githubusercontent.com/ajgarber20/Econometrics-Project/master/2002_OF.csv')\n",
    "C_02=pd.read_csv('https://raw.githubusercontent.com/ajgarber20/Econometrics-Project/master/2002_Catchers.csv')"
   ]
  },
  {
   "cell_type": "code",
   "execution_count": 283,
   "metadata": {
    "collapsed": false
   },
   "outputs": [
    {
     "name": "stdout",
     "output_type": "stream",
     "text": [
      "7326779.346153846 1824940.1523809524 5674148.433333334 2696275.4344262294 3453001.340277778 2206490.840909091\n"
     ]
    }
   ],
   "source": [
    "print(HR25_02['salary'].mean(),HR14_02['salary'].mean(),FB_02['salary'].mean(),IF_02['salary'].mean(),OF_02['salary'].mean(),C_02['salary'].mean())"
   ]
  },
  {
   "cell_type": "code",
   "execution_count": 376,
   "metadata": {
    "collapsed": true
   },
   "outputs": [],
   "source": [
    "#2003 Season Average Salaries Across Position Groups and Home Runs\n",
    "HR25_03=pd.read_csv('https://raw.githubusercontent.com/ajgarber20/Econometrics-Project/master/2003_%3E25HR.csv')\n",
    "HR14_03=pd.read_csv('https://raw.githubusercontent.com/ajgarber20/Econometrics-Project/master/2003_%3C14HR.csv')\n",
    "FB_03=pd.read_csv('https://raw.githubusercontent.com/ajgarber20/Econometrics-Project/master/2003_First.csv')\n",
    "IF_03=pd.read_csv('https://raw.githubusercontent.com/ajgarber20/Econometrics-Project/master/2003_Infielders.csv')\n",
    "OF_03=pd.read_csv('https://raw.githubusercontent.com/ajgarber20/Econometrics-Project/master/2003_OF.csv')\n",
    "C_03=pd.read_csv('https://raw.githubusercontent.com/ajgarber20/Econometrics-Project/master/2003_Catchers.csv')"
   ]
  },
  {
   "cell_type": "code",
   "execution_count": 377,
   "metadata": {
    "collapsed": false
   },
   "outputs": [
    {
     "name": "stdout",
     "output_type": "stream",
     "text": [
      "8125496.468085106 1968139.3779904307 5962230.166666667 2729878.714285714 3838330.3 2696696.8444444444\n"
     ]
    }
   ],
   "source": [
    "print(HR25_03['salary'].mean(),HR14_03['salary'].mean(),FB_03['salary'].mean(),IF_03['salary'].mean(),OF_03['salary'].mean(),C_03['salary'].mean())"
   ]
  },
  {
   "cell_type": "code",
   "execution_count": 278,
   "metadata": {
    "collapsed": true
   },
   "outputs": [],
   "source": [
    "#2004 Season Average Salaries Across Position Groups and Home Runs\n",
    "HR25_04=pd.read_csv('https://raw.githubusercontent.com/ajgarber20/Econometrics-Project/master/2004_%3E25HR.csv')\n",
    "HR14_04=pd.read_csv('https://raw.githubusercontent.com/ajgarber20/Econometrics-Project/master/2004_%3C14HR.csv')\n",
    "FB_04=pd.read_csv('https://raw.githubusercontent.com/ajgarber20/Econometrics-Project/master/2004_First.csv')\n",
    "IF_04=pd.read_csv('https://raw.githubusercontent.com/ajgarber20/Econometrics-Project/master/2004_Infielders.csv')\n",
    "OF_04=pd.read_csv('https://raw.githubusercontent.com/ajgarber20/Econometrics-Project/master/2004_OF.csv')\n",
    "C_04=pd.read_csv('https://raw.githubusercontent.com/ajgarber20/Econometrics-Project/master/2004_Catchers.csv')"
   ]
  },
  {
   "cell_type": "code",
   "execution_count": 285,
   "metadata": {
    "collapsed": false
   },
   "outputs": [
    {
     "name": "stdout",
     "output_type": "stream",
     "text": [
      "8593442.458333334 1791380.42364532 5020303.088235294 2623432.456140351 3785607.782312925 2394299.1063829786\n"
     ]
    }
   ],
   "source": [
    "print(HR25_04['salary'].mean(),HR14_04['salary'].mean(),FB_04['salary'].mean(),IF_04['salary'].mean(),OF_04['salary'].mean(),C_04['salary'].mean())"
   ]
  },
  {
   "cell_type": "code",
   "execution_count": 224,
   "metadata": {
    "collapsed": true
   },
   "outputs": [],
   "source": [
    "#2012 Season Average Salaries Across Position Groups and Home Runs\n",
    "HR25_12=pd.read_csv('https://raw.githubusercontent.com/ajgarber20/Econometrics-Project/master/2012_%3E25HR.csv')\n",
    "HR14_12=pd.read_csv('https://raw.githubusercontent.com/ajgarber20/Econometrics-Project/master/2012_%3C14HR.csv')\n",
    "FB_12=pd.read_csv('https://raw.githubusercontent.com/ajgarber20/Econometrics-Project/master/2012_First.csv')\n",
    "IF_12=pd.read_csv('https://raw.githubusercontent.com/ajgarber20/Econometrics-Project/master/2012_Infielders.csv')\n",
    "OF_12=pd.read_csv('https://raw.githubusercontent.com/ajgarber20/Econometrics-Project/master/2012_Outfielders.csv')\n",
    "C_12=pd.read_csv('https://raw.githubusercontent.com/ajgarber20/Econometrics-Project/master/2012_Catchers.csv')"
   ]
  },
  {
   "cell_type": "code",
   "execution_count": null,
   "metadata": {
    "collapsed": true
   },
   "outputs": [],
   "source": []
  },
  {
   "cell_type": "code",
   "execution_count": 229,
   "metadata": {
    "collapsed": false
   },
   "outputs": [
    {
     "name": "stdout",
     "output_type": "stream",
     "text": [
      "10250517.157894736 2963491.422222222 7939198.125 4188013.7933884296 4623481.5855263155 2997330.975609756\n"
     ]
    }
   ],
   "source": [
    "print(HR25_12['salary'].mean(),HR14_12['salary'].mean(),FB_12['salary'].mean(),IF_12['salary'].mean(),OF_12['salary'].mean(),C_12['salary'].mean())"
   ]
  },
  {
   "cell_type": "code",
   "execution_count": 230,
   "metadata": {
    "collapsed": true
   },
   "outputs": [],
   "source": [
    "#2013 Season Average Salaries Across Position Groups and Home Runs\n",
    "HR25_13=pd.read_csv('https://raw.githubusercontent.com/ajgarber20/Econometrics-Project/master/2013_%3E25HR.csv')\n",
    "HR14_13=pd.read_csv('https://raw.githubusercontent.com/ajgarber20/Econometrics-Project/master/2013_%3C14HR.csv')\n",
    "FB_13=pd.read_csv('https://raw.githubusercontent.com/ajgarber20/Econometrics-Project/master/2013_First.csv')\n",
    "IF_13=pd.read_csv('https://raw.githubusercontent.com/ajgarber20/Econometrics-Project/master/2013_Infielders.csv')\n",
    "OF_13=pd.read_csv('https://raw.githubusercontent.com/ajgarber20/Econometrics-Project/master/2013_Outfielders.csv')\n",
    "C_13=pd.read_csv('https://raw.githubusercontent.com/ajgarber20/Econometrics-Project/master/2013_Catchers.csv')"
   ]
  },
  {
   "cell_type": "code",
   "execution_count": 231,
   "metadata": {
    "collapsed": false
   },
   "outputs": [
    {
     "name": "stdout",
     "output_type": "stream",
     "text": [
      "9201146.315789474 2727807.263157895 8340846.0 4493717.788135593 4682916.919708029 3297073.4693877553\n"
     ]
    }
   ],
   "source": [
    "print(HR25_13['salary'].mean(),HR14_13['salary'].mean(),FB_13['salary'].mean(),IF_13['salary'].mean(),OF_13['salary'].mean(),C_13['salary'].mean())"
   ]
  },
  {
   "cell_type": "code",
   "execution_count": 232,
   "metadata": {
    "collapsed": true
   },
   "outputs": [],
   "source": [
    "#2014 Season Average Salaries Across Position Groups and Home Runs\n",
    "HR25_14=pd.read_csv('https://raw.githubusercontent.com/ajgarber20/Econometrics-Project/master/2014_%3E25HR.csv')\n",
    "HR14_14=pd.read_csv('https://raw.githubusercontent.com/ajgarber20/Econometrics-Project/master/2014_%3C14HR.csv')\n",
    "FB_14=pd.read_csv('https://raw.githubusercontent.com/ajgarber20/Econometrics-Project/master/2014_First.csv')\n",
    "IF_14=pd.read_csv('https://raw.githubusercontent.com/ajgarber20/Econometrics-Project/master/2014_Infielders.csv')\n",
    "OF_14=pd.read_csv('https://raw.githubusercontent.com/ajgarber20/Econometrics-Project/master/2014_Outfielders.csv')\n",
    "C_14=pd.read_csv('https://raw.githubusercontent.com/ajgarber20/Econometrics-Project/master/2014_Catchers.csv')"
   ]
  },
  {
   "cell_type": "code",
   "execution_count": 233,
   "metadata": {
    "collapsed": false
   },
   "outputs": [
    {
     "name": "stdout",
     "output_type": "stream",
     "text": [
      "9966400.0 3562774.4774774774 9045152.173913043 4579164.8907563025 5011450.509803922 3979964.4444444445\n"
     ]
    }
   ],
   "source": [
    "print(HR25_14['salary'].mean(),HR14_14['salary'].mean(),FB_14['salary'].mean(),IF_14['salary'].mean(),OF_14['salary'].mean(),C_14['salary'].mean())"
   ]
  },
  {
   "cell_type": "code",
   "execution_count": 234,
   "metadata": {
    "collapsed": true
   },
   "outputs": [],
   "source": [
    "#2015 Season Average Salaries Across Position Groups and Home Runs\n",
    "HR25_15=pd.read_csv('https://raw.githubusercontent.com/ajgarber20/Econometrics-Project/master/2015_%3E25HR.csv')\n",
    "HR14_15=pd.read_csv('https://raw.githubusercontent.com/ajgarber20/Econometrics-Project/master/2015_%3C14HR.csv')\n",
    "FB_15=pd.read_csv('https://raw.githubusercontent.com/ajgarber20/Econometrics-Project/master/2015_First.csv')\n",
    "IF_15=pd.read_csv('https://raw.githubusercontent.com/ajgarber20/Econometrics-Project/master/2015_Infielders.csv')\n",
    "OF_15=pd.read_csv('https://raw.githubusercontent.com/ajgarber20/Econometrics-Project/master/2015_Outfielders.csv')\n",
    "C_15=pd.read_csv('https://raw.githubusercontent.com/ajgarber20/Econometrics-Project/master/2015_Catchers.csv')"
   ]
  },
  {
   "cell_type": "code",
   "execution_count": 235,
   "metadata": {
    "collapsed": false
   },
   "outputs": [
    {
     "name": "stdout",
     "output_type": "stream",
     "text": [
      "10768216.65 5406742.995780591 10013786.64 5135833.058333334 5859233.014705882 3733118.625\n"
     ]
    }
   ],
   "source": [
    "print(HR25_15['salary'].mean(),HR14_15['salary'].mean(),FB_15['salary'].mean(),IF_15['salary'].mean(),OF_15['salary'].mean(),C_15['salary'].mean())"
   ]
  },
  {
   "cell_type": "code",
   "execution_count": 271,
   "metadata": {
    "collapsed": true
   },
   "outputs": [],
   "source": [
    "#2016 Season Average Salaries Across Position Groups and Home Runs\n",
    "HR25_16=pd.read_csv('https://raw.githubusercontent.com/ajgarber20/Econometrics-Project/master/2016_%3E25HR.csv')\n",
    "HR14_16=pd.read_csv('https://raw.githubusercontent.com/ajgarber20/Econometrics-Project/master/2016_%3C14HR.csv')\n",
    "FB_16=pd.read_csv('https://raw.githubusercontent.com/ajgarber20/Econometrics-Project/master/2016_First.csv')\n",
    "IF_16=pd.read_csv('https://raw.githubusercontent.com/ajgarber20/Econometrics-Project/master/2016_Infielders.csv')\n",
    "OF_16=pd.read_csv('https://raw.githubusercontent.com/ajgarber20/Econometrics-Project/master/2016_Outfielders.csv')\n",
    "C_16=pd.read_csv('https://raw.githubusercontent.com/ajgarber20/Econometrics-Project/master/2016_Catchers.csv')"
   ]
  },
  {
   "cell_type": "code",
   "execution_count": 274,
   "metadata": {
    "collapsed": false
   },
   "outputs": [
    {
     "name": "stdout",
     "output_type": "stream",
     "text": [
      "11214623.027027028 4342897.395238095 10418170.0 5066290.872881356 6129982.805555556 4268256.25\n"
     ]
    }
   ],
   "source": [
    "print(HR25_16['salary'].mean(),HR14_16['salary'].mean(),FB_16['salary'].mean(),IF_16['salary'].mean(),OF_16['salary'].mean(),C_16['salary'].mean())"
   ]
  },
  {
   "cell_type": "code",
   "execution_count": 437,
   "metadata": {
    "collapsed": false
   },
   "outputs": [],
   "source": [
    "#2000-2004 Salary Regressions\n",
    "Salary00_04 = pd.read_csv('https://raw.githubusercontent.com/ajgarber20/Econometrics-Project/master/2000-2004.csv')\n",
    "Salary00_04=Salary00_04.drop(['Unnamed: 33'],axis=1)\n",
    "Salary00_04 = Salary00_04.rename(columns={'Free Agency':'Free_Agency'})\n",
    "#Salary00_04"
   ]
  },
  {
   "cell_type": "code",
   "execution_count": 438,
   "metadata": {
    "collapsed": false
   },
   "outputs": [
    {
     "name": "stdout",
     "output_type": "stream",
     "text": [
      "                            OLS Regression Results                            \n",
      "==============================================================================\n",
      "Dep. Variable:         np.log(Salary)   R-squared:                       0.384\n",
      "Model:                            OLS   Adj. R-squared:                  0.381\n",
      "Method:                 Least Squares   F-statistic:                     152.8\n",
      "Date:                Wed, 05 Dec 2018   Prob (F-statistic):          1.75e-175\n",
      "Time:                        17:53:05   Log-Likelihood:                -2429.7\n",
      "No. Observations:                1724   AIC:                             4875.\n",
      "Df Residuals:                    1716   BIC:                             4919.\n",
      "Df Model:                           7                                         \n",
      "Covariance Type:            nonrobust                                         \n",
      "===============================================================================\n",
      "                  coef    std err          t      P>|t|      [0.025      0.975]\n",
      "-------------------------------------------------------------------------------\n",
      "Intercept      10.3903      0.217     47.938      0.000       9.965      10.815\n",
      "OBP             4.3850      0.852      5.148      0.000       2.714       6.056\n",
      "SLG             1.9627      0.434      4.524      0.000       1.112       2.814\n",
      "PA              0.0034      0.000     21.577      0.000       0.003       0.004\n",
      "Catcher         0.2238      0.077      2.899      0.004       0.072       0.375\n",
      "Infielder      -0.1064      0.055     -1.938      0.053      -0.214       0.001\n",
      "Arbitration     0.3664      0.243      1.510      0.131      -0.110       0.842\n",
      "Free_Agency     0.1475      0.075      1.954      0.051      -0.001       0.296\n",
      "==============================================================================\n",
      "Omnibus:                        3.102   Durbin-Watson:                   1.790\n",
      "Prob(Omnibus):                  0.212   Jarque-Bera (JB):                3.016\n",
      "Skew:                          -0.068   Prob(JB):                        0.221\n",
      "Kurtosis:                       2.846   Cond. No.                     1.83e+04\n",
      "==============================================================================\n",
      "\n",
      "Warnings:\n",
      "[1] Standard Errors assume that the covariance matrix of the errors is correctly specified.\n",
      "[2] The condition number is large, 1.83e+04. This might indicate that there are\n",
      "strong multicollinearity or other numerical problems.\n"
     ]
    }
   ],
   "source": [
    "print(smf.ols(' np.log(Salary) ~ OBP + SLG + PA + Catcher + Infielder + Arbitration + Free_Agency', data=Salary00_04).fit().summary())"
   ]
  },
  {
   "cell_type": "code",
   "execution_count": 441,
   "metadata": {
    "collapsed": false
   },
   "outputs": [],
   "source": [
    "#2000-2003 Salary Regression\n",
    "Salary00_03 = pd.read_csv('https://raw.githubusercontent.com/ajgarber20/Econometrics-Project/master/2000-2003_F.csv')\n",
    "Salary00_03 = Salary00_03.rename(columns={'Free Agency':'Free_Agency'})\n",
    "#Salary00_03"
   ]
  },
  {
   "cell_type": "code",
   "execution_count": 431,
   "metadata": {
    "collapsed": false
   },
   "outputs": [
    {
     "name": "stdout",
     "output_type": "stream",
     "text": [
      "                            OLS Regression Results                            \n",
      "==============================================================================\n",
      "Dep. Variable:         np.log(Salary)   R-squared:                       0.385\n",
      "Model:                            OLS   Adj. R-squared:                  0.382\n",
      "Method:                 Least Squares   F-statistic:                     123.1\n",
      "Date:                Tue, 04 Dec 2018   Prob (F-statistic):          2.00e-140\n",
      "Time:                        22:13:28   Log-Likelihood:                -1948.5\n",
      "No. Observations:                1382   AIC:                             3913.\n",
      "Df Residuals:                    1374   BIC:                             3955.\n",
      "Df Model:                           7                                         \n",
      "Covariance Type:            nonrobust                                         \n",
      "===============================================================================\n",
      "                  coef    std err          t      P>|t|      [0.025      0.975]\n",
      "-------------------------------------------------------------------------------\n",
      "Intercept      10.4636      0.241     43.457      0.000       9.991      10.936\n",
      "OBP             4.0932      0.944      4.335      0.000       2.241       5.946\n",
      "SLG             1.9328      0.480      4.028      0.000       0.991       2.874\n",
      "PA              0.0034      0.000     19.818      0.000       0.003       0.004\n",
      "Catcher         0.2469      0.087      2.845      0.005       0.077       0.417\n",
      "Infielder      -0.1173      0.061     -1.920      0.055      -0.237       0.003\n",
      "Arbitration     0.3389      0.251      1.351      0.177      -0.153       0.831\n",
      "Free_Agency     0.1619      0.090      1.809      0.071      -0.014       0.338\n",
      "==============================================================================\n",
      "Omnibus:                        4.948   Durbin-Watson:                   1.804\n",
      "Prob(Omnibus):                  0.084   Jarque-Bera (JB):                4.574\n",
      "Skew:                          -0.092   Prob(JB):                        0.102\n",
      "Kurtosis:                       2.787   Cond. No.                     1.81e+04\n",
      "==============================================================================\n",
      "\n",
      "Warnings:\n",
      "[1] Standard Errors assume that the covariance matrix of the errors is correctly specified.\n",
      "[2] The condition number is large, 1.81e+04. This might indicate that there are\n",
      "strong multicollinearity or other numerical problems.\n"
     ]
    }
   ],
   "source": [
    "print(smf.ols(' np.log(Salary) ~ OBP + SLG + PA + Catcher + Infielder + Arbitration + Free_Agency', data=Salary00_03).fit().summary())"
   ]
  },
  {
   "cell_type": "code",
   "execution_count": 439,
   "metadata": {
    "collapsed": false
   },
   "outputs": [
    {
     "name": "stdout",
     "output_type": "stream",
     "text": [
      "                            OLS Regression Results                            \n",
      "==============================================================================\n",
      "Dep. Variable:         np.log(Salary)   R-squared:                       0.365\n",
      "Model:                            OLS   Adj. R-squared:                  0.352\n",
      "Method:                 Least Squares   F-statistic:                     27.46\n",
      "Date:                Wed, 05 Dec 2018   Prob (F-statistic):           9.86e-30\n",
      "Time:                        17:54:01   Log-Likelihood:                -477.88\n",
      "No. Observations:                 342   AIC:                             971.8\n",
      "Df Residuals:                     334   BIC:                             1002.\n",
      "Df Model:                           7                                         \n",
      "Covariance Type:            nonrobust                                         \n",
      "===============================================================================\n",
      "                  coef    std err          t      P>|t|      [0.025      0.975]\n",
      "-------------------------------------------------------------------------------\n",
      "Intercept       9.7725      0.492     19.855      0.000       8.804      10.741\n",
      "OBP             6.5188      1.764      3.695      0.000       3.048       9.990\n",
      "SLG             1.6710      0.906      1.844      0.066      -0.111       3.453\n",
      "PA              0.0029      0.000      8.186      0.000       0.002       0.004\n",
      "Catcher         0.2376      0.175      1.359      0.175      -0.106       0.581\n",
      "Infielder      -0.0668      0.122     -0.549      0.583      -0.306       0.172\n",
      "Arbitration     0.3509      0.382      0.919      0.359      -0.400       1.102\n",
      "Free_Agency     0.3387      0.192      1.762      0.079      -0.040       0.717\n",
      "==============================================================================\n",
      "Omnibus:                        9.082   Durbin-Watson:                   1.669\n",
      "Prob(Omnibus):                  0.011   Jarque-Bera (JB):                5.153\n",
      "Skew:                          -0.085   Prob(JB):                       0.0760\n",
      "Kurtosis:                       2.423   Cond. No.                     1.70e+04\n",
      "==============================================================================\n",
      "\n",
      "Warnings:\n",
      "[1] Standard Errors assume that the covariance matrix of the errors is correctly specified.\n",
      "[2] The condition number is large, 1.7e+04. This might indicate that there are\n",
      "strong multicollinearity or other numerical problems.\n"
     ]
    }
   ],
   "source": [
    "#2000 Individual Regression\n",
    "Salary00 = pd.read_csv('https://raw.githubusercontent.com/ajgarber20/Econometrics-Project/master/2000_F.csv')\n",
    "Salary00 = Salary00.rename(columns={'Free Agency':'Free_Agency'})\n",
    "print(smf.ols(' np.log(Salary) ~ OBP + SLG + PA + Catcher + Infielder + Arbitration + Free_Agency', data=Salary00).fit().summary())"
   ]
  },
  {
   "cell_type": "code",
   "execution_count": 440,
   "metadata": {
    "collapsed": false
   },
   "outputs": [
    {
     "name": "stdout",
     "output_type": "stream",
     "text": [
      "0.26577450578439404 0.1403045304727612\n"
     ]
    }
   ],
   "source": [
    "print(Salary00['OBP'].std()*6.5188, Salary00['SLG'].std()*1.6710)"
   ]
  },
  {
   "cell_type": "code",
   "execution_count": 443,
   "metadata": {
    "collapsed": false
   },
   "outputs": [
    {
     "name": "stdout",
     "output_type": "stream",
     "text": [
      "                            OLS Regression Results                            \n",
      "==============================================================================\n",
      "Dep. Variable:         np.log(Salary)   R-squared:                       0.471\n",
      "Model:                            OLS   Adj. R-squared:                  0.460\n",
      "Method:                 Least Squares   F-statistic:                     44.25\n",
      "Date:                Wed, 05 Dec 2018   Prob (F-statistic):           1.48e-44\n",
      "Time:                        17:56:45   Log-Likelihood:                -483.74\n",
      "No. Observations:                 356   AIC:                             983.5\n",
      "Df Residuals:                     348   BIC:                             1014.\n",
      "Df Model:                           7                                         \n",
      "Covariance Type:            nonrobust                                         \n",
      "===============================================================================\n",
      "                  coef    std err          t      P>|t|      [0.025      0.975]\n",
      "-------------------------------------------------------------------------------\n",
      "Intercept      10.2361      0.448     22.846      0.000       9.355      11.117\n",
      "OBP             2.5237      1.706      1.479      0.140      -0.832       5.879\n",
      "SLG             2.9841      0.855      3.490      0.001       1.302       4.666\n",
      "PA              0.0039      0.000     11.898      0.000       0.003       0.005\n",
      "Catcher         0.1689      0.160      1.055      0.292      -0.146       0.484\n",
      "Infielder      -0.0257      0.116     -0.222      0.825      -0.254       0.202\n",
      "Arbitration     0.8745      0.555      1.577      0.116      -0.216       1.966\n",
      "Free_Agency     0.4057      0.169      2.397      0.017       0.073       0.739\n",
      "==============================================================================\n",
      "Omnibus:                        0.859   Durbin-Watson:                   1.790\n",
      "Prob(Omnibus):                  0.651   Jarque-Bera (JB):                0.628\n",
      "Skew:                          -0.063   Prob(JB):                        0.731\n",
      "Kurtosis:                       3.162   Cond. No.                     1.71e+04\n",
      "==============================================================================\n",
      "\n",
      "Warnings:\n",
      "[1] Standard Errors assume that the covariance matrix of the errors is correctly specified.\n",
      "[2] The condition number is large, 1.71e+04. This might indicate that there are\n",
      "strong multicollinearity or other numerical problems.\n"
     ]
    }
   ],
   "source": [
    "#2001 Individual Regression\n",
    "Salary01 = pd.read_csv('https://raw.githubusercontent.com/ajgarber20/Econometrics-Project/master/2001_F.csv')\n",
    "Salary01 = Salary01.rename(columns={'Free Agency':'Free_Agency'})\n",
    "print(smf.ols(' np.log(Salary) ~ OBP + SLG + PA + Catcher + Infielder + Arbitration + Free_Agency', data=Salary01).fit().summary())"
   ]
  },
  {
   "cell_type": "code",
   "execution_count": 444,
   "metadata": {
    "collapsed": false
   },
   "outputs": [
    {
     "name": "stdout",
     "output_type": "stream",
     "text": [
      "0.10672055879492147 0.2590036862568795\n"
     ]
    }
   ],
   "source": [
    "print(Salary01['OBP'].std()*2.5237, Salary01['SLG'].std()*2.9841)"
   ]
  },
  {
   "cell_type": "code",
   "execution_count": 445,
   "metadata": {
    "collapsed": false
   },
   "outputs": [
    {
     "name": "stdout",
     "output_type": "stream",
     "text": [
      "                            OLS Regression Results                            \n",
      "==============================================================================\n",
      "Dep. Variable:         np.log(Salary)   R-squared:                       0.371\n",
      "Model:                            OLS   Adj. R-squared:                  0.358\n",
      "Method:                 Least Squares   F-statistic:                     27.98\n",
      "Date:                Wed, 05 Dec 2018   Prob (F-statistic):           3.48e-30\n",
      "Time:                        17:58:56   Log-Likelihood:                -482.67\n",
      "No. Observations:                 340   AIC:                             981.3\n",
      "Df Residuals:                     332   BIC:                             1012.\n",
      "Df Model:                           7                                         \n",
      "Covariance Type:            nonrobust                                         \n",
      "===============================================================================\n",
      "                  coef    std err          t      P>|t|      [0.025      0.975]\n",
      "-------------------------------------------------------------------------------\n",
      "Intercept      10.6546      0.520     20.489      0.000       9.632      11.678\n",
      "OBP             4.6524      2.194      2.120      0.035       0.336       8.969\n",
      "SLG             1.4325      1.019      1.405      0.161      -0.573       3.438\n",
      "PA              0.0033      0.000      9.342      0.000       0.003       0.004\n",
      "Catcher         0.2714      0.183      1.485      0.139      -0.088       0.631\n",
      "Infielder      -0.1621      0.126     -1.291      0.198      -0.409       0.085\n",
      "Arbitration     0.3362      0.515      0.653      0.514      -0.676       1.348\n",
      "Free_Agency     0.0286      0.186      0.154      0.878      -0.338       0.395\n",
      "==============================================================================\n",
      "Omnibus:                        2.792   Durbin-Watson:                   1.954\n",
      "Prob(Omnibus):                  0.248   Jarque-Bera (JB):                2.858\n",
      "Skew:                          -0.199   Prob(JB):                        0.240\n",
      "Kurtosis:                       2.793   Cond. No.                     2.05e+04\n",
      "==============================================================================\n",
      "\n",
      "Warnings:\n",
      "[1] Standard Errors assume that the covariance matrix of the errors is correctly specified.\n",
      "[2] The condition number is large, 2.05e+04. This might indicate that there are\n",
      "strong multicollinearity or other numerical problems.\n"
     ]
    }
   ],
   "source": [
    "#2002 Individual Regression\n",
    "Salary02 = pd.read_csv('https://raw.githubusercontent.com/ajgarber20/Econometrics-Project/master/2002_F.csv')\n",
    "Salary02 = Salary02.rename(columns={'Free Agency':'Free_Agency'})\n",
    "print(smf.ols(' np.log(Salary) ~ OBP + SLG + PA + Catcher + Infielder + Arbitration + Free_Agency', data=Salary02).fit().summary())"
   ]
  },
  {
   "cell_type": "code",
   "execution_count": 446,
   "metadata": {
    "collapsed": false
   },
   "outputs": [
    {
     "name": "stdout",
     "output_type": "stream",
     "text": [
      "0.18586124196307016 0.12152050066875288\n"
     ]
    }
   ],
   "source": [
    "print(Salary02['OBP'].std()*4.6524, Salary02['SLG'].std()*1.4325)"
   ]
  },
  {
   "cell_type": "code",
   "execution_count": 447,
   "metadata": {
    "collapsed": false
   },
   "outputs": [
    {
     "name": "stdout",
     "output_type": "stream",
     "text": [
      "                            OLS Regression Results                            \n",
      "==============================================================================\n",
      "Dep. Variable:         np.log(Salary)   R-squared:                       0.385\n",
      "Model:                            OLS   Adj. R-squared:                  0.372\n",
      "Method:                 Least Squares   F-statistic:                     30.04\n",
      "Date:                Wed, 05 Dec 2018   Prob (F-statistic):           3.64e-32\n",
      "Time:                        17:59:57   Log-Likelihood:                -483.07\n",
      "No. Observations:                 344   AIC:                             982.1\n",
      "Df Residuals:                     336   BIC:                             1013.\n",
      "Df Model:                           7                                         \n",
      "Covariance Type:            nonrobust                                         \n",
      "===============================================================================\n",
      "                  coef    std err          t      P>|t|      [0.025      0.975]\n",
      "-------------------------------------------------------------------------------\n",
      "Intercept      10.3287      0.502     20.562      0.000       9.341      11.317\n",
      "OBP             5.7531      2.119      2.715      0.007       1.585       9.921\n",
      "SLG             1.3597      1.133      1.200      0.231      -0.869       3.588\n",
      "PA              0.0035      0.000      9.646      0.000       0.003       0.004\n",
      "Catcher         0.3488      0.178      1.965      0.050      -0.000       0.698\n",
      "Infielder      -0.1738      0.126     -1.384      0.167      -0.421       0.073\n",
      "Arbitration     0.2377      0.717      0.331      0.741      -1.174       1.649\n",
      "Free_Agency    -0.1120      0.171     -0.657      0.512      -0.448       0.223\n",
      "==============================================================================\n",
      "Omnibus:                        0.515   Durbin-Watson:                   1.914\n",
      "Prob(Omnibus):                  0.773   Jarque-Bera (JB):                0.573\n",
      "Skew:                          -0.091   Prob(JB):                        0.751\n",
      "Kurtosis:                       2.918   Cond. No.                     2.05e+04\n",
      "==============================================================================\n",
      "\n",
      "Warnings:\n",
      "[1] Standard Errors assume that the covariance matrix of the errors is correctly specified.\n",
      "[2] The condition number is large, 2.05e+04. This might indicate that there are\n",
      "strong multicollinearity or other numerical problems.\n"
     ]
    }
   ],
   "source": [
    "#2003 Individual Regression\n",
    "Salary03 = pd.read_csv('https://raw.githubusercontent.com/ajgarber20/Econometrics-Project/master/2003_F.csv')\n",
    "Salary03 = Salary03.rename(columns={'Free Agency':'Free_Agency'})\n",
    "print(smf.ols(' np.log(Salary) ~ OBP + SLG + PA + Catcher + Infielder + Arbitration + Free_Agency', data=Salary03).fit().summary())"
   ]
  },
  {
   "cell_type": "code",
   "execution_count": 448,
   "metadata": {
    "collapsed": false
   },
   "outputs": [
    {
     "name": "stdout",
     "output_type": "stream",
     "text": [
      "0.2325003690510334 0.10261449050440163\n"
     ]
    }
   ],
   "source": [
    "print(Salary03['OBP'].std()*5.7531, Salary03['SLG'].std()*1.3597)"
   ]
  },
  {
   "cell_type": "code",
   "execution_count": 449,
   "metadata": {
    "collapsed": false
   },
   "outputs": [
    {
     "name": "stdout",
     "output_type": "stream",
     "text": [
      "                            OLS Regression Results                            \n",
      "==============================================================================\n",
      "Dep. Variable:         np.log(Salary)   R-squared:                       0.384\n",
      "Model:                            OLS   Adj. R-squared:                  0.371\n",
      "Method:                 Least Squares   F-statistic:                     29.73\n",
      "Date:                Wed, 05 Dec 2018   Prob (F-statistic):           7.74e-32\n",
      "Time:                        18:01:49   Log-Likelihood:                -479.58\n",
      "No. Observations:                 342   AIC:                             975.2\n",
      "Df Residuals:                     334   BIC:                             1006.\n",
      "Df Model:                           7                                         \n",
      "Covariance Type:            nonrobust                                         \n",
      "===============================================================================\n",
      "                  coef    std err          t      P>|t|      [0.025      0.975]\n",
      "-------------------------------------------------------------------------------\n",
      "Intercept       9.9950      0.508     19.659      0.000       8.995      10.995\n",
      "OBP             5.8847      2.014      2.922      0.004       1.924       9.846\n",
      "SLG             2.1283      1.025      2.077      0.039       0.113       4.144\n",
      "PA              0.0031      0.000      8.324      0.000       0.002       0.004\n",
      "Catcher         0.1572      0.171      0.921      0.358      -0.179       0.493\n",
      "Infielder      -0.0370      0.127     -0.292      0.770      -0.286       0.212\n",
      "Arbitration     0.7658      1.000      0.766      0.444      -1.201       2.733\n",
      "Free_Agency     0.0844      0.144      0.587      0.558      -0.199       0.367\n",
      "==============================================================================\n",
      "Omnibus:                        0.353   Durbin-Watson:                   1.732\n",
      "Prob(Omnibus):                  0.838   Jarque-Bera (JB):                0.183\n",
      "Skew:                           0.028   Prob(JB):                        0.913\n",
      "Kurtosis:                       3.098   Cond. No.                     1.91e+04\n",
      "==============================================================================\n",
      "\n",
      "Warnings:\n",
      "[1] Standard Errors assume that the covariance matrix of the errors is correctly specified.\n",
      "[2] The condition number is large, 1.91e+04. This might indicate that there are\n",
      "strong multicollinearity or other numerical problems.\n"
     ]
    }
   ],
   "source": [
    "#2004 Individual Regression\n",
    "Salary04 = pd.read_csv('https://raw.githubusercontent.com/ajgarber20/Econometrics-Project/master/2004_F.csv')\n",
    "Salary04 = Salary04.rename(columns={'Free Agency':'Free_Agency'})\n",
    "print(smf.ols(' np.log(Salary) ~ OBP + SLG + PA + Catcher + Infielder + Arbitration + Free_Agency', data=Salary04).fit().summary())"
   ]
  },
  {
   "cell_type": "code",
   "execution_count": 450,
   "metadata": {
    "collapsed": false
   },
   "outputs": [
    {
     "name": "stdout",
     "output_type": "stream",
     "text": [
      "0.2372870539971904 0.1676693609371051\n"
     ]
    }
   ],
   "source": [
    "print(Salary04['OBP'].std()*5.8847, Salary04['SLG'].std()*2.1283)"
   ]
  },
  {
   "cell_type": "code",
   "execution_count": 327,
   "metadata": {
    "collapsed": false
   },
   "outputs": [
    {
     "name": "stdout",
     "output_type": "stream",
     "text": [
      "                            OLS Regression Results                            \n",
      "==============================================================================\n",
      "Dep. Variable:         np.log(salary)   R-squared:                       0.268\n",
      "Model:                            OLS   Adj. R-squared:                  0.265\n",
      "Method:                 Least Squares   F-statistic:                     121.8\n",
      "Date:                Sun, 02 Dec 2018   Prob (F-statistic):          5.19e-110\n",
      "Time:                        20:23:28   Log-Likelihood:                -2514.0\n",
      "No. Observations:                1673   AIC:                             5040.\n",
      "Df Residuals:                    1667   BIC:                             5072.\n",
      "Df Model:                           5                                         \n",
      "Covariance Type:            nonrobust                                         \n",
      "==============================================================================\n",
      "                 coef    std err          t      P>|t|      [0.025      0.975]\n",
      "------------------------------------------------------------------------------\n",
      "Intercept     11.5356      0.251     45.876      0.000      11.042      12.029\n",
      "OBP            4.7171      1.022      4.614      0.000       2.712       6.722\n",
      "SLG            0.7367      0.528      1.395      0.163      -0.299       1.772\n",
      "PA             0.0032      0.000     18.331      0.000       0.003       0.004\n",
      "Catcher        0.0026      0.083      0.031      0.975      -0.160       0.165\n",
      "Infielder     -0.1397      0.060     -2.338      0.019      -0.257      -0.023\n",
      "==============================================================================\n",
      "Omnibus:                       25.695   Durbin-Watson:                   2.000\n",
      "Prob(Omnibus):                  0.000   Jarque-Bera (JB):               16.195\n",
      "Skew:                          -0.082   Prob(JB):                     0.000304\n",
      "Kurtosis:                       2.547   Cond. No.                     1.92e+04\n",
      "==============================================================================\n",
      "\n",
      "Warnings:\n",
      "[1] Standard Errors assume that the covariance matrix of the errors is correctly specified.\n",
      "[2] The condition number is large, 1.92e+04. This might indicate that there are\n",
      "strong multicollinearity or other numerical problems.\n"
     ]
    }
   ],
   "source": [
    "#2012-2016 Salary Regressions\n",
    "Salary12_16 = pd.read_csv('https://raw.githubusercontent.com/ajgarber20/Econometrics-Project/master/2012-2016.csv')\n",
    "print(smf.ols(' np.log(salary) ~ OBP + SLG + PA + Catcher + Infielder', data=Salary12_16).fit().summary())"
   ]
  },
  {
   "cell_type": "code",
   "execution_count": null,
   "metadata": {
    "collapsed": true
   },
   "outputs": [],
   "source": []
  },
  {
   "cell_type": "code",
   "execution_count": 341,
   "metadata": {
    "collapsed": false
   },
   "outputs": [
    {
     "name": "stdout",
     "output_type": "stream",
     "text": [
      "                            OLS Regression Results                            \n",
      "==============================================================================\n",
      "Dep. Variable:         np.log(salary)   R-squared:                       0.298\n",
      "Model:                            OLS   Adj. R-squared:                  0.296\n",
      "Method:                 Least Squares   F-statistic:                     113.4\n",
      "Date:                Sun, 02 Dec 2018   Prob (F-statistic):          5.78e-100\n",
      "Time:                        20:30:54   Log-Likelihood:                -1968.5\n",
      "No. Observations:                1339   AIC:                             3949.\n",
      "Df Residuals:                    1333   BIC:                             3980.\n",
      "Df Model:                           5                                         \n",
      "Covariance Type:            nonrobust                                         \n",
      "==============================================================================\n",
      "                 coef    std err          t      P>|t|      [0.025      0.975]\n",
      "------------------------------------------------------------------------------\n",
      "Intercept     11.3565      0.269     42.172      0.000      10.828      11.885\n",
      "OBP            5.0264      1.104      4.552      0.000       2.860       7.193\n",
      "SLG            0.7678      0.576      1.334      0.183      -0.362       1.897\n",
      "PA             0.0033      0.000     17.245      0.000       0.003       0.004\n",
      "Catcher       -0.0117      0.089     -0.131      0.896      -0.187       0.163\n",
      "Infielder     -0.1170      0.065     -1.811      0.070      -0.244       0.010\n",
      "==============================================================================\n",
      "Omnibus:                       12.067   Durbin-Watson:                   1.966\n",
      "Prob(Omnibus):                  0.002   Jarque-Bera (JB):                9.970\n",
      "Skew:                          -0.136   Prob(JB):                      0.00684\n",
      "Kurtosis:                       2.676   Cond. No.                     1.91e+04\n",
      "==============================================================================\n",
      "\n",
      "Warnings:\n",
      "[1] Standard Errors assume that the covariance matrix of the errors is correctly specified.\n",
      "[2] The condition number is large, 1.91e+04. This might indicate that there are\n",
      "strong multicollinearity or other numerical problems.\n"
     ]
    }
   ],
   "source": [
    "#2012-2015 Salary Regressions\n",
    "Salary12_15 = pd.read_csv('https://raw.githubusercontent.com/ajgarber20/Econometrics-Project/master/2012-2015_F.csv')\n",
    "print(smf.ols(' np.log(salary) ~ OBP + SLG + PA + Catcher + Infielder', data=Salary12_15).fit().summary())"
   ]
  },
  {
   "cell_type": "code",
   "execution_count": 451,
   "metadata": {
    "collapsed": false
   },
   "outputs": [
    {
     "name": "stdout",
     "output_type": "stream",
     "text": [
      "                            OLS Regression Results                            \n",
      "==============================================================================\n",
      "Dep. Variable:         np.log(salary)   R-squared:                       0.283\n",
      "Model:                            OLS   Adj. R-squared:                  0.272\n",
      "Method:                 Least Squares   F-statistic:                     26.21\n",
      "Date:                Wed, 05 Dec 2018   Prob (F-statistic):           2.59e-22\n",
      "Time:                        18:08:36   Log-Likelihood:                -503.71\n",
      "No. Observations:                 338   AIC:                             1019.\n",
      "Df Residuals:                     332   BIC:                             1042.\n",
      "Df Model:                           5                                         \n",
      "Covariance Type:            nonrobust                                         \n",
      "==============================================================================\n",
      "                 coef    std err          t      P>|t|      [0.025      0.975]\n",
      "------------------------------------------------------------------------------\n",
      "Intercept     11.7056      0.539     21.724      0.000      10.646      12.766\n",
      "OBP            2.1898      2.288      0.957      0.339      -2.311       6.691\n",
      "SLG            1.7091      1.159      1.475      0.141      -0.570       3.989\n",
      "PA             0.0034      0.000      8.610      0.000       0.003       0.004\n",
      "Catcher       -0.0136      0.189     -0.072      0.943      -0.386       0.359\n",
      "Infielder      0.0135      0.131      0.103      0.918      -0.244       0.271\n",
      "==============================================================================\n",
      "Omnibus:                        1.700   Durbin-Watson:                   1.991\n",
      "Prob(Omnibus):                  0.427   Jarque-Bera (JB):                1.573\n",
      "Skew:                          -0.064   Prob(JB):                        0.455\n",
      "Kurtosis:                       2.691   Cond. No.                     1.93e+04\n",
      "==============================================================================\n",
      "\n",
      "Warnings:\n",
      "[1] Standard Errors assume that the covariance matrix of the errors is correctly specified.\n",
      "[2] The condition number is large, 1.93e+04. This might indicate that there are\n",
      "strong multicollinearity or other numerical problems.\n"
     ]
    }
   ],
   "source": [
    "#2012 Salary Regressions\n",
    "Salary12 = pd.read_csv('https://raw.githubusercontent.com/ajgarber20/Econometrics-Project/master/2012_F.csv')\n",
    "print(smf.ols(' np.log(salary) ~ OBP + SLG + PA + Catcher + Infielder', data=Salary12).fit().summary())"
   ]
  },
  {
   "cell_type": "code",
   "execution_count": 360,
   "metadata": {
    "collapsed": false
   },
   "outputs": [
    {
     "name": "stdout",
     "output_type": "stream",
     "text": [
      "0.0806817635112222 0.11781513274244462\n"
     ]
    }
   ],
   "source": [
    "print(Salary12['OBP'].std()*2.1898, Salary12['SLG'].std()*1.7091)"
   ]
  },
  {
   "cell_type": "code",
   "execution_count": 452,
   "metadata": {
    "collapsed": false
   },
   "outputs": [
    {
     "name": "stdout",
     "output_type": "stream",
     "text": [
      "                            OLS Regression Results                            \n",
      "==============================================================================\n",
      "Dep. Variable:         np.log(salary)   R-squared:                       0.301\n",
      "Model:                            OLS   Adj. R-squared:                  0.291\n",
      "Method:                 Least Squares   F-statistic:                     27.78\n",
      "Date:                Wed, 05 Dec 2018   Prob (F-statistic):           2.19e-23\n",
      "Time:                        18:09:19   Log-Likelihood:                -481.65\n",
      "No. Observations:                 328   AIC:                             975.3\n",
      "Df Residuals:                     322   BIC:                             998.1\n",
      "Df Model:                           5                                         \n",
      "Covariance Type:            nonrobust                                         \n",
      "==============================================================================\n",
      "                 coef    std err          t      P>|t|      [0.025      0.975]\n",
      "------------------------------------------------------------------------------\n",
      "Intercept     11.0400      0.568     19.444      0.000       9.923      12.157\n",
      "OBP            3.9645      2.222      1.784      0.075      -0.407       8.336\n",
      "SLG            2.1707      1.154      1.882      0.061      -0.099       4.440\n",
      "PA             0.0032      0.000      8.143      0.000       0.002       0.004\n",
      "Catcher        0.0856      0.179      0.479      0.632      -0.266       0.437\n",
      "Infielder     -0.0006      0.133     -0.004      0.996      -0.262       0.261\n",
      "==============================================================================\n",
      "Omnibus:                        0.836   Durbin-Watson:                   1.969\n",
      "Prob(Omnibus):                  0.658   Jarque-Bera (JB):                0.911\n",
      "Skew:                          -0.042   Prob(JB):                        0.634\n",
      "Kurtosis:                       2.756   Cond. No.                     1.89e+04\n",
      "==============================================================================\n",
      "\n",
      "Warnings:\n",
      "[1] Standard Errors assume that the covariance matrix of the errors is correctly specified.\n",
      "[2] The condition number is large, 1.89e+04. This might indicate that there are\n",
      "strong multicollinearity or other numerical problems.\n"
     ]
    }
   ],
   "source": [
    "#2013 Salary Regressions\n",
    "Salary13 = pd.read_csv('https://raw.githubusercontent.com/ajgarber20/Econometrics-Project/master/2013_F.csv')\n",
    "print(smf.ols(' np.log(salary) ~ OBP + SLG + PA + Catcher + Infielder', data=Salary13).fit().summary())"
   ]
  },
  {
   "cell_type": "code",
   "execution_count": 361,
   "metadata": {
    "collapsed": false
   },
   "outputs": [
    {
     "name": "stdout",
     "output_type": "stream",
     "text": [
      "0.1416954939225025 0.15178758396948977\n"
     ]
    }
   ],
   "source": [
    "print(Salary13['OBP'].std()*3.9645, Salary13['SLG'].std()*2.1707)"
   ]
  },
  {
   "cell_type": "code",
   "execution_count": 453,
   "metadata": {
    "collapsed": false
   },
   "outputs": [
    {
     "name": "stdout",
     "output_type": "stream",
     "text": [
      "                            OLS Regression Results                            \n",
      "==============================================================================\n",
      "Dep. Variable:         np.log(salary)   R-squared:                       0.339\n",
      "Model:                            OLS   Adj. R-squared:                  0.329\n",
      "Method:                 Least Squares   F-statistic:                     34.21\n",
      "Date:                Wed, 05 Dec 2018   Prob (F-statistic):           3.37e-28\n",
      "Time:                        18:10:13   Log-Likelihood:                -488.68\n",
      "No. Observations:                 340   AIC:                             989.4\n",
      "Df Residuals:                     334   BIC:                             1012.\n",
      "Df Model:                           5                                         \n",
      "Covariance Type:            nonrobust                                         \n",
      "==============================================================================\n",
      "                 coef    std err          t      P>|t|      [0.025      0.975]\n",
      "------------------------------------------------------------------------------\n",
      "Intercept     10.6045      0.515     20.594      0.000       9.592      11.617\n",
      "OBP            6.8915      2.169      3.178      0.002       2.626      11.157\n",
      "SLG            1.3155      1.139      1.155      0.249      -0.925       3.556\n",
      "PA             0.0032      0.000      8.535      0.000       0.002       0.004\n",
      "Catcher        0.0564      0.174      0.324      0.746      -0.287       0.400\n",
      "Infielder     -0.1462      0.125     -1.174      0.241      -0.391       0.099\n",
      "==============================================================================\n",
      "Omnibus:                        4.534   Durbin-Watson:                   2.273\n",
      "Prob(Omnibus):                  0.104   Jarque-Bera (JB):                4.568\n",
      "Skew:                          -0.257   Prob(JB):                        0.102\n",
      "Kurtosis:                       2.760   Cond. No.                     1.96e+04\n",
      "==============================================================================\n",
      "\n",
      "Warnings:\n",
      "[1] Standard Errors assume that the covariance matrix of the errors is correctly specified.\n",
      "[2] The condition number is large, 1.96e+04. This might indicate that there are\n",
      "strong multicollinearity or other numerical problems.\n"
     ]
    }
   ],
   "source": [
    "#2014 Salary Regressions\n",
    "Salary14 = pd.read_csv('https://raw.githubusercontent.com/ajgarber20/Econometrics-Project/master/2014_F.csv')\n",
    "print(smf.ols(' np.log(salary) ~ OBP + SLG + PA + Catcher + Infielder', data=Salary14).fit().summary())"
   ]
  },
  {
   "cell_type": "code",
   "execution_count": 362,
   "metadata": {
    "collapsed": false
   },
   "outputs": [
    {
     "name": "stdout",
     "output_type": "stream",
     "text": [
      "0.2539128565337418 0.0906827026637914\n"
     ]
    }
   ],
   "source": [
    "print(Salary14['OBP'].std()*6.8915, Salary14['SLG'].std()*1.3155)"
   ]
  },
  {
   "cell_type": "code",
   "execution_count": 454,
   "metadata": {
    "collapsed": false
   },
   "outputs": [
    {
     "name": "stdout",
     "output_type": "stream",
     "text": [
      "                            OLS Regression Results                            \n",
      "==============================================================================\n",
      "Dep. Variable:         np.log(salary)   R-squared:                       0.313\n",
      "Model:                            OLS   Adj. R-squared:                  0.302\n",
      "Method:                 Least Squares   F-statistic:                     29.75\n",
      "Date:                Wed, 05 Dec 2018   Prob (F-statistic):           6.73e-25\n",
      "Time:                        18:10:45   Log-Likelihood:                -478.39\n",
      "No. Observations:                 333   AIC:                             968.8\n",
      "Df Residuals:                     327   BIC:                             991.6\n",
      "Df Model:                           5                                         \n",
      "Covariance Type:            nonrobust                                         \n",
      "==============================================================================\n",
      "                 coef    std err          t      P>|t|      [0.025      0.975]\n",
      "------------------------------------------------------------------------------\n",
      "Intercept     11.8376      0.534     22.176      0.000      10.788      12.888\n",
      "OBP            6.7036      2.137      3.137      0.002       2.499      10.908\n",
      "SLG           -1.2804      1.180     -1.085      0.279      -3.601       1.041\n",
      "PA             0.0035      0.000      9.051      0.000       0.003       0.004\n",
      "Catcher       -0.1678      0.171     -0.984      0.326      -0.503       0.168\n",
      "Infielder     -0.2994      0.127     -2.350      0.019      -0.550      -0.049\n",
      "==============================================================================\n",
      "Omnibus:                        5.325   Durbin-Watson:                   1.776\n",
      "Prob(Omnibus):                  0.070   Jarque-Bera (JB):                4.802\n",
      "Skew:                          -0.228   Prob(JB):                       0.0906\n",
      "Kurtosis:                       2.628   Cond. No.                     1.91e+04\n",
      "==============================================================================\n",
      "\n",
      "Warnings:\n",
      "[1] Standard Errors assume that the covariance matrix of the errors is correctly specified.\n",
      "[2] The condition number is large, 1.91e+04. This might indicate that there are\n",
      "strong multicollinearity or other numerical problems.\n"
     ]
    }
   ],
   "source": [
    "#2015 Salary Regressions\n",
    "Salary15 = pd.read_csv('https://raw.githubusercontent.com/ajgarber20/Econometrics-Project/master/2015_F.csv')\n",
    "print(smf.ols(' np.log(salary) ~ OBP + SLG + PA + Catcher + Infielder', data=Salary15).fit().summary())"
   ]
  },
  {
   "cell_type": "code",
   "execution_count": 363,
   "metadata": {
    "collapsed": false
   },
   "outputs": [
    {
     "name": "stdout",
     "output_type": "stream",
     "text": [
      "0.24206572716528188 -0.08445505764946713\n"
     ]
    }
   ],
   "source": [
    "print(Salary15['OBP'].std()*6.7036, Salary15['SLG'].std()*-1.2804)"
   ]
  },
  {
   "cell_type": "code",
   "execution_count": 455,
   "metadata": {
    "collapsed": false
   },
   "outputs": [
    {
     "name": "stdout",
     "output_type": "stream",
     "text": [
      "                            OLS Regression Results                            \n",
      "==============================================================================\n",
      "Dep. Variable:         np.log(salary)   R-squared:                       0.164\n",
      "Model:                            OLS   Adj. R-squared:                  0.151\n",
      "Method:                 Least Squares   F-statistic:                     12.84\n",
      "Date:                Wed, 05 Dec 2018   Prob (F-statistic):           2.03e-11\n",
      "Time:                        18:11:15   Log-Likelihood:                -536.46\n",
      "No. Observations:                 334   AIC:                             1085.\n",
      "Df Residuals:                     328   BIC:                             1108.\n",
      "Df Model:                           5                                         \n",
      "Covariance Type:            nonrobust                                         \n",
      "==============================================================================\n",
      "                 coef    std err          t      P>|t|      [0.025      0.975]\n",
      "------------------------------------------------------------------------------\n",
      "Intercept     12.3918      0.663     18.686      0.000      11.087      13.696\n",
      "OBP            3.6683      2.592      1.415      0.158      -1.430       8.767\n",
      "SLG            0.1676      1.316      0.127      0.899      -2.421       2.756\n",
      "PA             0.0029      0.000      6.652      0.000       0.002       0.004\n",
      "Catcher        0.0304      0.214      0.142      0.887      -0.391       0.452\n",
      "Infielder     -0.2276      0.150     -1.518      0.130      -0.522       0.067\n",
      "==============================================================================\n",
      "Omnibus:                       38.952   Durbin-Watson:                   1.997\n",
      "Prob(Omnibus):                  0.000   Jarque-Bera (JB):               11.276\n",
      "Skew:                          -0.035   Prob(JB):                      0.00356\n",
      "Kurtosis:                       2.103   Cond. No.                     1.95e+04\n",
      "==============================================================================\n",
      "\n",
      "Warnings:\n",
      "[1] Standard Errors assume that the covariance matrix of the errors is correctly specified.\n",
      "[2] The condition number is large, 1.95e+04. This might indicate that there are\n",
      "strong multicollinearity or other numerical problems.\n"
     ]
    }
   ],
   "source": [
    "#2016 Salary Regressions\n",
    "Salary16 = pd.read_csv('https://raw.githubusercontent.com/ajgarber20/Econometrics-Project/master/2016_F.csv')\n",
    "print(smf.ols(' np.log(salary) ~ OBP + SLG + PA + Catcher + Infielder', data=Salary16).fit().summary())"
   ]
  },
  {
   "cell_type": "code",
   "execution_count": 364,
   "metadata": {
    "collapsed": false
   },
   "outputs": [
    {
     "name": "stdout",
     "output_type": "stream",
     "text": [
      "0.1266030314080566 0.011388694448547834\n"
     ]
    }
   ],
   "source": [
    "print(Salary16['OBP'].std()*3.6683, Salary16['SLG'].std()*0.1676)"
   ]
  },
  {
   "cell_type": "code",
   "execution_count": null,
   "metadata": {
    "collapsed": true
   },
   "outputs": [],
   "source": []
  }
 ],
 "metadata": {
  "kernelspec": {
   "display_name": "Python 3",
   "language": "python",
   "name": "python3"
  },
  "language_info": {
   "codemirror_mode": {
    "name": "ipython",
    "version": 3
   },
   "file_extension": ".py",
   "mimetype": "text/x-python",
   "name": "python",
   "nbconvert_exporter": "python",
   "pygments_lexer": "ipython3",
   "version": "3.6.1"
  }
 },
 "nbformat": 4,
 "nbformat_minor": 2
}
